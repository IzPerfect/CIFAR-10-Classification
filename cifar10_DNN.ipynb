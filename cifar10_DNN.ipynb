{
 "cells": [
  {
   "cell_type": "code",
   "execution_count": 1,
   "metadata": {},
   "outputs": [
    {
     "name": "stderr",
     "output_type": "stream",
     "text": [
      "Using TensorFlow backend.\n"
     ]
    }
   ],
   "source": [
    "import keras\n",
    "import numpy as np\n",
    "from keras import datasets\n",
    "from keras import models\n",
    "from keras.layers import Dense, Dropout, Flatten, Activation\n",
    "import matplotlib.pyplot as plt\n",
    "from keras.optimizers import Adam"
   ]
  },
  {
   "cell_type": "markdown",
   "metadata": {},
   "source": [
    "CIFAR 데이터를 분류할 모텔 생성"
   ]
  },
  {
   "cell_type": "code",
   "execution_count": 2,
   "metadata": {},
   "outputs": [],
   "source": [
    "class CifarDNN(object):\n",
    "    def __init__(self, img_shape, class_num, epoch = 10, batch_size = 32, learning_rate = 0.001, actf = 'relu', \n",
    "                     layer1 = 64, layer2 = 32,  drop_rate = 0.2, val_split = 0.2):\n",
    "        self.epoch = epoch\n",
    "        self.batch_size = batch_size\n",
    "        self.learning_rate = learning_rate\n",
    "        self.actf = actf\n",
    "        self.layer1 = layer1\n",
    "        self.layer2 = layer2\n",
    "        self.img_shape = img_shape\n",
    "        self.class_num = class_num\n",
    "        self.drop_rate = drop_rate\n",
    "        self.val_split = val_split\n",
    "        \n",
    "        \n",
    "        self.model = self.build_model()\n",
    "    \n",
    "    # cifar 분류에 사용될 neural network 설정\n",
    "    def build_model(self):\n",
    "        model = models.Sequential()\n",
    "        model.add(Dense(self.layer1, input_shape = (self.img_shape,), name = \"HiddenLayer1\"))\n",
    "        model.add(Activation(self.actf))\n",
    "        model.add(Dropout(self.drop_rate))\n",
    "        \n",
    "        model.add(Dense(self.layer2, name = \"HiddenLayer2\"))\n",
    "        model.add(Activation(self.actf))\n",
    "        model.add(Dropout(self.drop_rate))\n",
    "            \n",
    "        model.add(Dense(self.class_num))\n",
    "        model.add(Activation('softmax'))\n",
    "        \n",
    "        model.compile(loss = 'categorical_crossentropy', optimizer = Adam(lr = self.learning_rate)\n",
    "                          ,metrics = ['accuracy'])\n",
    "            \n",
    "        return model   \n",
    "    \n",
    "    # 모델학습\n",
    "    def train(self, X_train, Y_train):\n",
    "        self.history = self.model.fit(X_train, Y_train, epochs = self.epoch, \n",
    "                                          batch_size = self.batch_size, validation_split = self.val_split)\n",
    "        return self.history\n",
    "            \n",
    "    # 모델평가        \n",
    "    def show_eval(self, X_test, Y_test, batch_test_size = 10):\n",
    "        self.result = self.model.evaluate(X_test, Y_test, batch_size = batch_test_size)\n",
    "        \n",
    "        return self.result"
   ]
  },
  {
   "cell_type": "code",
   "execution_count": 3,
   "metadata": {},
   "outputs": [],
   "source": [
    "#  data pre-processing function\n",
    "def data_load(data):\n",
    "    (X_train, Y_train), (X_test, Y_test) = data.load_data()\n",
    "    \n",
    "    X_train = X_train.astype('float32')\n",
    "    X_test = X_test.astype('float32')\n",
    "    \n",
    "    Y_train = keras.utils.to_categorical(Y_train)\n",
    "    Y_test = keras.utils.to_categorical(Y_test)\n",
    "    \n",
    "    L, W, H, C = X_train.shape\n",
    "    X_train = X_train.reshape(-1, W*H*C)\n",
    "    X_test = X_test.reshape(-1, W*H*C)\n",
    "    \n",
    "    X_train /= 255.\n",
    "    X_test /= 255.\n",
    "    \n",
    "    return (X_train, Y_train), (X_test, Y_test)"
   ]
  },
  {
   "cell_type": "code",
   "execution_count": 22,
   "metadata": {},
   "outputs": [
    {
     "name": "stdout",
     "output_type": "stream",
     "text": [
      "Train on 40000 samples, validate on 10000 samples\n",
      "Epoch 1/10\n",
      "40000/40000 [==============================] - 8s 191us/step - loss: 2.1364 - acc: 0.1828 - val_loss: 1.9935 - val_acc: 0.2381\n",
      "Epoch 2/10\n",
      "40000/40000 [==============================] - 7s 183us/step - loss: 2.0183 - acc: 0.2264 - val_loss: 1.9279 - val_acc: 0.2710\n",
      "Epoch 3/10\n",
      "40000/40000 [==============================] - 7s 185us/step - loss: 1.9815 - acc: 0.2450 - val_loss: 1.9080 - val_acc: 0.2873\n",
      "Epoch 4/10\n",
      "40000/40000 [==============================] - 7s 176us/step - loss: 1.9709 - acc: 0.2480 - val_loss: 1.9188 - val_acc: 0.2829\n",
      "Epoch 5/10\n",
      "40000/40000 [==============================] - 7s 167us/step - loss: 1.9574 - acc: 0.2536 - val_loss: 1.9139 - val_acc: 0.2877\n",
      "Epoch 6/10\n",
      "40000/40000 [==============================] - 7s 170us/step - loss: 1.9562 - acc: 0.2581 - val_loss: 1.8817 - val_acc: 0.2994\n",
      "Epoch 7/10\n",
      "40000/40000 [==============================] - 7s 174us/step - loss: 1.9481 - acc: 0.2613 - val_loss: 1.8923 - val_acc: 0.3035\n",
      "Epoch 8/10\n",
      "40000/40000 [==============================] - 8s 196us/step - loss: 1.9389 - acc: 0.2676 - val_loss: 1.8944 - val_acc: 0.2898\n",
      "Epoch 9/10\n",
      "40000/40000 [==============================] - 9s 235us/step - loss: 1.9427 - acc: 0.2668 - val_loss: 1.8779 - val_acc: 0.2996\n",
      "Epoch 10/10\n",
      "40000/40000 [==============================] - 9s 233us/step - loss: 1.9355 - acc: 0.2694 - val_loss: 1.8920 - val_acc: 0.2939\n"
     ]
    }
   ],
   "source": [
    "(X_train, Y_train), (X_test, Y_test) = data_load(datasets.cifar10)\n",
    "cifar_model = CifarDNN(img_shape = X_train.shape[1], class_num = Y_train.shape[1])\n",
    "history_train = cifar_model.train(X_train, Y_train)"
   ]
  },
  {
   "cell_type": "code",
   "execution_count": 5,
   "metadata": {},
   "outputs": [
    {
     "name": "stdout",
     "output_type": "stream",
     "text": [
      "10000/10000 [==============================] - 1s 116us/step\n",
      "Test Loss :  1.9105729835033416\n",
      "Test Accuracy :  29.410000583529474 %\n"
     ]
    }
   ],
   "source": [
    "result = cifar_model.show_eval(X_test, Y_test)\n",
    "print('Test Loss : ', result[0])\n",
    "print('Test Accuracy : ', result[1]*100, '%')"
   ]
  },
  {
   "cell_type": "code",
   "execution_count": 21,
   "metadata": {},
   "outputs": [
    {
     "name": "stdout",
     "output_type": "stream",
     "text": [
      "predict clas :  [3 8 8]\n",
      "actual class :  [3 8 8]\n"
     ]
    }
   ],
   "source": [
    "print('predict clas : ',cifar_model.model.predict_classes(X_test[:3]))\n",
    "print('actual class : ', np.where(Y_test[:3])[1])"
   ]
  },
  {
   "cell_type": "code",
   "execution_count": 24,
   "metadata": {},
   "outputs": [
    {
     "data": {
      "text/plain": [
       "[<matplotlib.lines.Line2D at 0x20e836d8b70>]"
      ]
     },
     "execution_count": 24,
     "metadata": {},
     "output_type": "execute_result"
    },
    {
     "data": {
      "image/png": "[encoded data removed]",
      "text/plain": [
       "<Figure size 432x288 with 1 Axes>"
      ]
     },
     "metadata": {
      "needs_background": "light"
     },
     "output_type": "display_data"
    }
   ],
   "source": [
    "plt.plot(history_train.history['loss'])"
   ]
  },
  {
   "cell_type": "code",
   "execution_count": null,
   "metadata": {},
   "outputs": [],
   "source": [
    "# 모듈 따로 만들기 따로 만들기 클래스만 있는거 cifar10_DNN처럼 \n",
    "# ex) CifarDNN, CifarVGG ...\n",
    "\n",
    "# CifarNETS : CifarNETS 안에 모델만 따로 만들기, build_model에 사용\n",
    "# utils : data_load, 사진, history plot 등등"
   ]
  }
 ],
 "metadata": {
  "kernelspec": {
   "display_name": "Python [conda env:tensorflow35]",
   "language": "python",
   "name": "conda-env-tensorflow35-py"
  },
  "language_info": {
   "codemirror_mode": {
    "name": "ipython",
    "version": 3
   },
   "file_extension": ".py",
   "mimetype": "text/x-python",
   "name": "python",
   "nbconvert_exporter": "python",
   "pygments_lexer": "ipython3",
   "version": "3.5.6"
  }
 },
 "nbformat": 4,
 "nbformat_minor": 2
}
