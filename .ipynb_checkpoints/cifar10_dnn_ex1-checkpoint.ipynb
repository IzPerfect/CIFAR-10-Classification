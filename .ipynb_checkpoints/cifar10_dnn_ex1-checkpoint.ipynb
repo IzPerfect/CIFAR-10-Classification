{
 "cells": [
  {
   "cell_type": "code",
   "execution_count": 1,
   "metadata": {},
   "outputs": [
    {
     "name": "stderr",
     "output_type": "stream",
     "text": [
      "Using TensorFlow backend.\n"
     ]
    }
   ],
   "source": [
    "import cifar10_DNN\n",
    "import numpy as np\n",
    "import matplotlib.pyplot as plt"
   ]
  },
  {
   "cell_type": "markdown",
   "metadata": {},
   "source": [
    "cifar10_DNN모듈을 사용한다"
   ]
  },
  {
   "cell_type": "code",
   "execution_count": 2,
   "metadata": {},
   "outputs": [],
   "source": [
    "(X_train, Y_train), (X_test, Y_test) = cifar10_DNN.data_load(cifar10_DNN.datasets.cifar10)"
   ]
  },
  {
   "cell_type": "code",
   "execution_count": 3,
   "metadata": {},
   "outputs": [],
   "source": [
    "cifar_model = cifar10_DNN.CifarDNN(img_shape = X_train.shape[1], class_num = Y_train.shape[1])"
   ]
  },
  {
   "cell_type": "code",
   "execution_count": 4,
   "metadata": {},
   "outputs": [
    {
     "name": "stdout",
     "output_type": "stream",
     "text": [
      "Train on 40000 samples, validate on 10000 samples\n",
      "Epoch 1/10\n",
      "40000/40000 [==============================] - 4s 102us/step - loss: 2.3038 - acc: 0.1002 - val_loss: 2.3027 - val_acc: 0.1003\n",
      "Epoch 2/10\n",
      "40000/40000 [==============================] - 4s 93us/step - loss: 2.3027 - acc: 0.1011 - val_loss: 2.3029 - val_acc: 0.0980\n",
      "Epoch 3/10\n",
      "40000/40000 [==============================] - 4s 93us/step - loss: 2.3027 - acc: 0.1005 - val_loss: 2.3026 - val_acc: 0.0977\n",
      "Epoch 4/10\n",
      "40000/40000 [==============================] - 4s 98us/step - loss: 2.3028 - acc: 0.0974 - val_loss: 2.3028 - val_acc: 0.0978\n",
      "Epoch 5/10\n",
      "40000/40000 [==============================] - 4s 95us/step - loss: 2.3028 - acc: 0.0999 - val_loss: 2.3026 - val_acc: 0.1003\n",
      "Epoch 6/10\n",
      "40000/40000 [==============================] - 4s 94us/step - loss: 2.3028 - acc: 0.0978 - val_loss: 2.3027 - val_acc: 0.0997\n",
      "Epoch 7/10\n",
      "40000/40000 [==============================] - 4s 98us/step - loss: 2.3028 - acc: 0.0994 - val_loss: 2.3028 - val_acc: 0.0952\n",
      "Epoch 8/10\n",
      "40000/40000 [==============================] - 4s 94us/step - loss: 2.3028 - acc: 0.0992 - val_loss: 2.3028 - val_acc: 0.0980\n",
      "Epoch 9/10\n",
      "40000/40000 [==============================] - 4s 96us/step - loss: 2.3028 - acc: 0.0988 - val_loss: 2.3027 - val_acc: 0.0952\n",
      "Epoch 10/10\n",
      "40000/40000 [==============================] - 4s 94us/step - loss: 2.3028 - acc: 0.0971 - val_loss: 2.3028 - val_acc: 0.0952\n",
      "10000/10000 [==============================] - 0s 29us/step\n",
      "Test Loss :  2.302630935668945\n",
      "Test Accuracy :  10.0 %\n",
      "predict clas :  [2 2 2]\n",
      "actual class :  [3 8 8]\n"
     ]
    },
    {
     "data": {
      "image/png": "[encoded data removed]",
      "text/plain": [
       "<Figure size 432x288 with 1 Axes>"
      ]
     },
     "metadata": {
      "needs_background": "light"
     },
     "output_type": "display_data"
    }
   ],
   "source": [
    "history_train = cifar_model.train(X_train, Y_train)\n",
    "\n",
    "#  model evaluate\n",
    "result = cifar_model.show_eval(X_test, Y_test, 32)\n",
    "print('Test Loss : ', result[0])\n",
    "print('Test Accuracy : ', result[1]*100, '%')\n",
    "\n",
    "print('predict clas : ',cifar_model.model.predict_classes(X_test[:3]))\n",
    "print('actual class : ', np.where(Y_test[:3])[1])\n",
    "\n",
    "# model history plot\n",
    "plt.plot(history_train.history['loss'])\n",
    "plt.show()"
   ]
  },
  {
   "cell_type": "code",
   "execution_count": null,
   "metadata": {},
   "outputs": [],
   "source": []
  }
 ],
 "metadata": {
  "kernelspec": {
   "display_name": "Python [conda env:tensorflow35]",
   "language": "python",
   "name": "conda-env-tensorflow35-py"
  },
  "language_info": {
   "codemirror_mode": {
    "name": "ipython",
    "version": 3
   },
   "file_extension": ".py",
   "mimetype": "text/x-python",
   "name": "python",
   "nbconvert_exporter": "python",
   "pygments_lexer": "ipython3",
   "version": "3.5.6"
  }
 },
 "nbformat": 4,
 "nbformat_minor": 2
}
